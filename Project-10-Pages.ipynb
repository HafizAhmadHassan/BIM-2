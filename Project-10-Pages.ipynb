{
 "cells": [
  {
   "attachments": {},
   "cell_type": "markdown",
   "metadata": {},
   "source": [
    "# Project of Biomedical Image Processing Course\n",
    "The course we are following [FSL](https://open.win.ox.ac.uk/pages/fslcourse/website/index.html)"
   ]
  },
  {
   "attachments": {},
   "cell_type": "markdown",
   "metadata": {},
   "source": [
    "# Objective"
   ]
  },
  {
   "attachments": {},
   "cell_type": "markdown",
   "metadata": {},
   "source": [
    "The purpose of the project is to apply the Tract-based spatial statistics (TBSS) technique to investigate a group of subjects affected by the Fabry disease. In particular, we are going to study whether the Tract-based spatial statistics technique is able to differentiate the two groups of subjects (patients vs controls).\n",
    "\n",
    "To acchieve this objective the TBB application with the pre-processing of dataset, the reginstration and segmentation of DTI,the creation of tractography and connectome of the patients' brain vs controls are needed to provide both analysis and conclusions.\n",
    "\n"
   ]
  },
  {
   "attachments": {},
   "cell_type": "markdown",
   "metadata": {},
   "source": [
    "# Introduction"
   ]
  },
  {
   "attachments": {},
   "cell_type": "markdown",
   "metadata": {},
   "source": [
    "***The structure of the brain***\n",
    "\n",
    "The brain is composed of gray matter and white matter. \n",
    "In particular, the gray matter is mainly made up of sets of cellular bodies, in which higher functions such as thought calculation capacity, movement, perception and processing of the senses, etc. \n",
    "The white matter is mostly composed of nerve fibers, and constitutes the \"road network\" through which information and signals shared between neurons travel, expressing a coordinated work of the different brain regions [1].\n",
    "\n",
    "<img src=\"./img7.png\" width=\"400\" height=\"200\">\n",
    "Figure 1: Brain regions[2]\n",
    "\n",
    "\n",
    "***The MRI Scanner Cutaway***\n",
    "\n",
    "It is not possible to study the microstructure of the brain using X-rays because the brain is a fibrous soft tissue. It is necessary to perform Magnetic Resonance Imaging (MRI) images, a non-invasive technique capable of characterizing in-vivo tissues with millimeter accuracy thanks to the physical principles on which it is based and theorized in the theory of electromagnetism, in the theory of Zeeman effect, in the Boltzmann equation, in the theory of the Wobble effect in relation to the magnetic moment of brain atoms, etc.\n",
    "\n",
    "<img src=\"./img6.png\" width=\"500\" height=\"300\">\n",
    "Figure 1: MRI Scanner Cutaway[3]\n",
    "\n",
    "\n",
    "***The Diffusion***\n",
    "\n",
    "The concept of diffusion is explained in the picture below by molecules:\n",
    "<img src=\"./img1.png\" width=\"400\" height=\"200\">\n",
    "Figure 2: equal and not equal acquisition in all directions[4].\n",
    "\n",
    "\n",
    "***The Fabry disease***\n",
    "\n",
    "Fabry disease (also called Anderson-Fabry) is a lysosomal storage disease first described by physicians Johannes Fabry and William Anderson in 1898, characterized by progressive physical deterioration due to deficiency of the GLA gene coding for the enzyme α-galactosidase. Indeed, it causes an accumulation of glycolipids in the tissues and/or the occlusion of blood vessels. It's recessive hereditary disease linked to the X chromosome and it leads to a wide range of symptoms affecting many organs, including the kidneys, heart and brain. The frequency and severity of the symptoms increase with age[5].\n",
    "\n"
   ]
  },
  {
   "attachments": {},
   "cell_type": "markdown",
   "metadata": {},
   "source": [
    "# Dataset  \n",
    "\n",
    "ASK PROF: \n",
    "the datasets and patient MRI tecniques or others...\n",
    "the possible representations-formats\n",
    "\n",
    "\n",
    "\n",
    "\n",
    "We will see how the datasets provided will be managed in FSL.\n",
    "Let us have a look how our datasets looks like. It contains neuroimaging pictures with an extension of **'nii'**"
   ]
  },
  {
   "attachments": {},
   "cell_type": "markdown",
   "metadata": {},
   "source": [
    "We have two group of data: \n",
    "1. Control\n",
    "2. Patients\n",
    "\n",
    "The directory format of the two datasets is the follwing:"
   ]
  },
  {
   "cell_type": "code",
   "execution_count": 1,
   "metadata": {},
   "outputs": [
    {
     "name": "stdout",
     "output_type": "stream",
     "text": [
      "Directory\n",
      "Structure\n"
     ]
    }
   ],
   "source": [
    "print(\"Directory\")\n",
    "\"\"\"\n",
    "├── FD\n",
    "│   ├── Control\n",
    "│   │   ├── HC_001\n",
    "│   |   |   ├── DTI\n",
    "│   |   |   |    ├── HC_001_bvals.txt  \n",
    "|   |   |   |    ├── HC_001_bvecs.txt \n",
    "|   |   |   |    ├── HC_001_data_mask.nii.gz \n",
    "|   |   |   |    ├── HC_001_data.nii.gz\n",
    "│   |   |   ├── T1\n",
    "|   |   |   |    ├── aparc+aseg.nii.gz \n",
    "|   |   |   |    ├── T1_data.nii.gz\n",
    "│   ├── Patient\n",
    "│   │   ├── FD_001\n",
    "│   |   |   ├── DTI\n",
    "│   |   |   |    ├── FD_001_bvals.txt  \n",
    "|   |   |   |    ├── FD_001_bvecs.txt \n",
    "|   |   |   |    ├── FD_001_data_mask.nii.gz \n",
    "|   |   |   |    ├── FD_001_data.nii.gz\n",
    "│   |   |   ├── T1\n",
    "|   |   |   |    ├── aparc+aseg.nii.gz \n",
    "|   |   |   |    ├── T1_data.nii.gz\n",
    "|___|___|___|____|__\n",
    "\n",
    "\"\"\"\n",
    "print(\"Structure\")\n"
   ]
  },
  {
   "attachments": {},
   "cell_type": "markdown",
   "metadata": {},
   "source": [
    "In particular, bvals and bvecs respectively contains the values to determine direction and how much diffusion is going in specific voxel or in specific track. "
   ]
  },
  {
   "attachments": {},
   "cell_type": "markdown",
   "metadata": {},
   "source": [
    "# TBB Application"
   ]
  },
  {
   "attachments": {},
   "cell_type": "markdown",
   "metadata": {},
   "source": [
    "TO DO:\n",
    "TBSS is a suite of tools for analyzing diffusion data. This software uses a tensor-fitting method to generate different measures of diffusion, such as fractional anisotropy (FA) and mean diffusivity (MD).\n",
    "https://andysbrainbook.readthedocs.io/en/stable/TBSS/TBSS_Overview.html\n",
    "\n",
    "Running TBSS involves the following steps:\n",
    "- 1) create FA images from the diffusion study data and manage it\n",
    "- 2) use tbss_1_preproc: prepare FA data in TBSS working directory in the right format\n",
    "- 3) use tbss_2_reg: apply nonlinear registration of all FA images into standard space\n",
    "- 4) use tbss_3_postreg: create the mean FA image and skeletonise it\n",
    "- 5) use tbss_4_prestats: project all subjects' FA data onto the mean FA skeleton\n",
    "- 6) stats (e.g., randomise): feed the 4D projected FA data into GLM modelling and thresholding in order to find voxels which correlate with your model."
   ]
  },
  {
   "attachments": {},
   "cell_type": "markdown",
   "metadata": {},
   "source": []
  },
  {
   "attachments": {},
   "cell_type": "markdown",
   "metadata": {},
   "source": [
    "## Creation of FA images"
   ]
  },
  {
   "cell_type": "code",
   "execution_count": null,
   "metadata": {},
   "outputs": [],
   "source": []
  },
  {
   "attachments": {},
   "cell_type": "markdown",
   "metadata": {},
   "source": [
    "## Motion Correction Results FA Images\n",
    "**Eddy Current Correction**"
   ]
  },
  {
   "attachments": {},
   "cell_type": "markdown",
   "metadata": {},
   "source": [
    "The first thing we need to do  motion correction or eddy current correction.\n",
    "\n",
    "ADD DETAILSSSS"
   ]
  },
  {
   "attachments": {},
   "cell_type": "markdown",
   "metadata": {},
   "source": [
    "Firstly, open FSL: "
   ]
  },
  {
   "cell_type": "code",
   "execution_count": 2,
   "metadata": {},
   "outputs": [],
   "source": [
    "#!fsl"
   ]
  },
  {
   "attachments": {},
   "cell_type": "markdown",
   "metadata": {},
   "source": [
    "Afterwards, clicking on FDT diffusion, set the directory as the current wrorking directory.\n",
    "\n",
    "Follwing images shows steps in sequence which results FA images"
   ]
  },
  {
   "attachments": {},
   "cell_type": "markdown",
   "metadata": {},
   "source": [
    "<img src=\"./img2.png\" width=\"400\" height=\"200\">"
   ]
  },
  {
   "attachments": {},
   "cell_type": "markdown",
   "metadata": {},
   "source": [
    "<img src=\"./img3.png\" width=\"400\" height=\"200\">"
   ]
  },
  {
   "attachments": {},
   "cell_type": "markdown",
   "metadata": {},
   "source": [
    "<img src=\"./img4.png\" width=\"400\" height=\"200\">"
   ]
  },
  {
   "attachments": {},
   "cell_type": "markdown",
   "metadata": {},
   "source": [
    "### Through Command Line One Subject"
   ]
  },
  {
   "cell_type": "code",
   "execution_count": 3,
   "metadata": {},
   "outputs": [
    {
     "name": "stdout",
     "output_type": "stream",
     "text": [
      "Example\n"
     ]
    }
   ],
   "source": [
    "\"\"\"\n",
    "open command line type : dtifit to check how to use\n",
    "dtifit -k /Users/hassan/Documents/GitHub/BIM/FD/Non_Control/FD_001/DTI/FD_001_data.nii.gz -o /Users/hassan/Documents/GitHub/BIM/FD/Non_Control/FD_001/DTI/ -m /Users/hassan/Documents/GitHub/BIM/FD/Non_Control/FD_001/DTI/FD_001_data_mask.nii.gz -r /Users/hassan/Documents/GitHub/BIM/FD/Non_Control/FD_001/DTI/FD_001_bvecs.txt -b /Users/hassan/Documents/GitHub/BIM/FD/Non_Control/FD_001/DTI/FD_001_bvals.txt\"\"\"\n",
    "print(\"Example\")"
   ]
  },
  {
   "cell_type": "code",
   "execution_count": 4,
   "metadata": {},
   "outputs": [
    {
     "data": {
      "text/plain": [
       "'\\ndtifit -k /Users/hassan/Documents/GitHub/BIM/FD/Non_Control/FD_002/DTI/FD_002_data.nii.gz -o /Users/hassan/Documents/GitHub/BIM/FD/Non_Control/FD_002/DTI/ -m /Users/hassan/Documents/GitHub/BIM/FD/Non_Control/FD_002/DTI/FD_002_data_mask.nii.gz -r /Users/hassan/Documents/GitHub/BIM/FD/Non_Control/FD_002/DTI/FD_002_bvecs.txt -b /Users/hassan/Documents/GitHub/BIM/FD/Non_Control/FD_002/DTI/FD_002_bvals.txt\\n'"
      ]
     },
     "execution_count": 4,
     "metadata": {},
     "output_type": "execute_result"
    }
   ],
   "source": [
    "\"\"\"\n",
    "dtifit -k /Users/hassan/Documents/GitHub/BIM/FD/Non_Control/FD_002/DTI/FD_002_data.nii.gz -o /Users/hassan/Documents/GitHub/BIM/FD/Non_Control/FD_002/DTI/ -m /Users/hassan/Documents/GitHub/BIM/FD/Non_Control/FD_002/DTI/FD_002_data_mask.nii.gz -r /Users/hassan/Documents/GitHub/BIM/FD/Non_Control/FD_002/DTI/FD_002_bvecs.txt -b /Users/hassan/Documents/GitHub/BIM/FD/Non_Control/FD_002/DTI/FD_002_bvals.txt\n",
    "\"\"\""
   ]
  },
  {
   "cell_type": "code",
   "execution_count": 5,
   "metadata": {},
   "outputs": [
    {
     "name": "stderr",
     "output_type": "stream",
     "text": [
      "Could not open matrix file /Users/hassan/Documents/GitHub/BIM/FD/Control/HC_002/DTI/HC_002_bvecs.txt\n",
      "Could not open matrix file /Users/hassan/Documents/GitHub/BIM/FD/Control/HC_002/DTI/HC_002_bvals.txt\n",
      "Image Exception : #63 :: No image files match: /Users/hassan/Documents/GitHub/BIM/FD/Control/HC_002/DTI/HC_002_data\n",
      "Image Exception : #22 :: Failed to read volume /Users/hassan/Documents/GitHub/BIM/FD/Control/HC_002/DTI/HC_002_data.nii.gz\n",
      "Error : No image files match: /Users/hassan/Documents/GitHub/BIM/FD/Control/HC_002/DTI/HC_002_data\n",
      "libc++abi: terminating due to uncaught exception of type std::runtime_error: Failed to read volume /Users/hassan/Documents/GitHub/BIM/FD/Control/HC_002/DTI/HC_002_data.nii.gz\n",
      "Error : No image files match: /Users/hassan/Documents/GitHub/BIM/FD/Control/HC_002/DTI/HC_002_data\n",
      "/usr/local/fsl/share/fsl/bin/dtifit: line 2: 41605 Abort trap: 6           /usr/local/fsl/bin/dtifit \"$@\"\n"
     ]
    },
    {
     "data": {
      "text/plain": [
       "34304"
      ]
     },
     "execution_count": 5,
     "metadata": {},
     "output_type": "execute_result"
    }
   ],
   "source": [
    "import os\n",
    "os.system(\"dtifit -k /Users/hassan/Documents/GitHub/BIM/FD/Control/HC_002/DTI/HC_002_data.nii.gz -o /Users/hassan/Documents/GitHub/BIM/FD/Control/HC_002/DTI/ -m /Users/hassan/Documents/GitHub/BIM/FD/Control/HC_002/DTI/HC_002_data_mask.nii.gz -r /Users/hassan/Documents/GitHub/BIM/FD/Control/HC_002/DTI/HC_002_bvecs.txt -b /Users/hassan/Documents/GitHub/BIM/FD/Control/HC_002/DTI/HC_002_bvals.txt\")"
   ]
  },
  {
   "attachments": {},
   "cell_type": "markdown",
   "metadata": {},
   "source": [
    "### Apply To All Subject"
   ]
  },
  {
   "cell_type": "code",
   "execution_count": 6,
   "metadata": {},
   "outputs": [
    {
     "name": "stdout",
     "output_type": "stream",
     "text": [
      "ls: ./FD/controls_all: No such file or directory\n"
     ]
    }
   ],
   "source": [
    "!ls './FD/controls_all'"
   ]
  },
  {
   "cell_type": "code",
   "execution_count": 7,
   "metadata": {},
   "outputs": [
    {
     "name": "stdout",
     "output_type": "stream",
     "text": [
      "/Users/hassan/Documents/GitHub/BIM\n"
     ]
    }
   ],
   "source": [
    "!pwd"
   ]
  },
  {
   "cell_type": "code",
   "execution_count": 8,
   "metadata": {},
   "outputs": [
    {
     "ename": "FileNotFoundError",
     "evalue": "[Errno 2] No such file or directory: './FD/controls_all'",
     "output_type": "error",
     "traceback": [
      "\u001b[0;31m---------------------------------------------------------------------------\u001b[0m",
      "\u001b[0;31mFileNotFoundError\u001b[0m                         Traceback (most recent call last)",
      "Cell \u001b[0;32mIn[8], line 6\u001b[0m\n\u001b[1;32m      2\u001b[0m SUB_DIR\u001b[39m=\u001b[39m[\u001b[39m'\u001b[39m\u001b[39m/controls_all\u001b[39m\u001b[39m'\u001b[39m,\u001b[39m\"\u001b[39m\u001b[39m/patients_all\u001b[39m\u001b[39m\"\u001b[39m]\n\u001b[1;32m      5\u001b[0m subjs_control \u001b[39m=\u001b[39m[]\n\u001b[0;32m----> 6\u001b[0m \u001b[39mfor\u001b[39;00m subj \u001b[39min\u001b[39;00m os\u001b[39m.\u001b[39;49mlistdir(ROOT_DIR\u001b[39m+\u001b[39;49mSUB_DIR[\u001b[39m0\u001b[39;49m]):\n\u001b[1;32m      7\u001b[0m     os\u001b[39m.\u001b[39msystem(\u001b[39mf\u001b[39m\u001b[39m\"\u001b[39m\u001b[39mdtifit -k \u001b[39m\u001b[39m{\u001b[39;00mROOT_DIR\u001b[39m}\u001b[39;00m\u001b[39m/\u001b[39m\u001b[39m{\u001b[39;00mSUB_DIR[\u001b[39m0\u001b[39m]\u001b[39m}\u001b[39;00m\u001b[39m/\u001b[39m\u001b[39m{\u001b[39;00msubj\u001b[39m}\u001b[39;00m\u001b[39m/DTI/\u001b[39m\u001b[39m{\u001b[39;00msubj\u001b[39m}\u001b[39;00m\u001b[39m_data.nii.gz -o \u001b[39m\u001b[39m{\u001b[39;00mROOT_DIR\u001b[39m}\u001b[39;00m\u001b[39m/\u001b[39m\u001b[39m{\u001b[39;00mSUB_DIR[\u001b[39m0\u001b[39m]\u001b[39m}\u001b[39;00m\u001b[39m/\u001b[39m\u001b[39m{\u001b[39;00msubj\u001b[39m}\u001b[39;00m\u001b[39m/DTI/ -m \u001b[39m\u001b[39m{\u001b[39;00mROOT_DIR\u001b[39m}\u001b[39;00m\u001b[39m/\u001b[39m\u001b[39m{\u001b[39;00mSUB_DIR[\u001b[39m0\u001b[39m]\u001b[39m}\u001b[39;00m\u001b[39m/\u001b[39m\u001b[39m{\u001b[39;00msubj\u001b[39m}\u001b[39;00m\u001b[39m/DTI/\u001b[39m\u001b[39m{\u001b[39;00msubj\u001b[39m}\u001b[39;00m\u001b[39m_data_mask.nii.gz -r \u001b[39m\u001b[39m{\u001b[39;00mROOT_DIR\u001b[39m}\u001b[39;00m\u001b[39m/\u001b[39m\u001b[39m{\u001b[39;00mSUB_DIR[\u001b[39m0\u001b[39m]\u001b[39m}\u001b[39;00m\u001b[39m/\u001b[39m\u001b[39m{\u001b[39;00msubj\u001b[39m}\u001b[39;00m\u001b[39m/DTI/\u001b[39m\u001b[39m{\u001b[39;00msubj\u001b[39m}\u001b[39;00m\u001b[39m_bvecs.txt -b \u001b[39m\u001b[39m{\u001b[39;00mROOT_DIR\u001b[39m}\u001b[39;00m\u001b[39m/\u001b[39m\u001b[39m{\u001b[39;00mSUB_DIR[\u001b[39m0\u001b[39m]\u001b[39m}\u001b[39;00m\u001b[39m/\u001b[39m\u001b[39m{\u001b[39;00msubj\u001b[39m}\u001b[39;00m\u001b[39m/DTI/\u001b[39m\u001b[39m{\u001b[39;00msubj\u001b[39m}\u001b[39;00m\u001b[39m_bvals.txt\u001b[39m\u001b[39m\"\u001b[39m)\n\u001b[1;32m      8\u001b[0m     subjs_control\u001b[39m.\u001b[39mappend(subj)\n",
      "\u001b[0;31mFileNotFoundError\u001b[0m: [Errno 2] No such file or directory: './FD/controls_all'"
     ]
    }
   ],
   "source": [
    "ROOT_DIR='./FD'\n",
    "SUB_DIR=['/controls_all',\"/patients_all\"]\n",
    "\n",
    "\n",
    "subjs_control =[]\n",
    "for subj in os.listdir(ROOT_DIR+SUB_DIR[0]):\n",
    "    os.system(f\"dtifit -k {ROOT_DIR}/{SUB_DIR[0]}/{subj}/DTI/{subj}_data.nii.gz -o {ROOT_DIR}/{SUB_DIR[0]}/{subj}/DTI/ -m {ROOT_DIR}/{SUB_DIR[0]}/{subj}/DTI/{subj}_data_mask.nii.gz -r {ROOT_DIR}/{SUB_DIR[0]}/{subj}/DTI/{subj}_bvecs.txt -b {ROOT_DIR}/{SUB_DIR[0]}/{subj}/DTI/{subj}_bvals.txt\")\n",
    "    subjs_control.append(subj)\n",
    "print(\"Applied to All Controled\",subjs_control)\n",
    "\n",
    "\n",
    "\n",
    "\n",
    "subjs_patient =[]\n",
    "for subj in os.listdir(ROOT_DIR+SUB_DIR[1]):\n",
    "    os.system(f\"dtifit -k {ROOT_DIR}/{SUB_DIR[1]}/{subj}/DTI/{subj}_data.nii.gz -o {ROOT_DIR}/{SUB_DIR[1]}/{subj}/DTI/ -m {ROOT_DIR}/{SUB_DIR[1]}/{subj}/DTI/{subj}_data_mask.nii.gz -r {ROOT_DIR}/{SUB_DIR[1]}/{subj}/DTI/{subj}_bvecs.txt -b {ROOT_DIR}/{SUB_DIR[1]}/{subj}/DTI/{subj}_bvals.txt\")\n",
    "    subjs_patient.append(subj)\n",
    "print(\"Applied to Patients \",subjs_patient)\n",
    "print(\"Process Done\")"
   ]
  },
  {
   "cell_type": "code",
   "execution_count": null,
   "metadata": {},
   "outputs": [],
   "source": [
    "!mkdir FD/mytbss"
   ]
  },
  {
   "cell_type": "code",
   "execution_count": null,
   "metadata": {},
   "outputs": [
    {
     "name": "stdout",
     "output_type": "stream",
     "text": [
      "Moved Controled TBSS ['HC_015', 'HC_013', 'HC_014', 'HC_009', 'HC_007', 'HC_001', 'HC_006', 'HC_008', 'HC_011', 'HC_016', 'HC_020', 'HC_018', 'HC_019', 'HC_021', 'HC_017', 'HC_010', 'HC_003', 'HC_004', 'HC_005', 'HC_002']\n",
      "Moved Patients to TBSS ['FD_005', 'FD_002', 'FD_003', 'FD_004', 'FD_019', 'FD_017', 'FD_010', 'FD_011', 'FD_016', 'FD_020', 'FD_018', 'FD_001', 'FD_006', 'FD_008', 'FD_009', 'FD_007', 'FD_013', 'FD_014', 'FD_015', 'FD_012']\n",
      "Process Done\n"
     ]
    }
   ],
   "source": [
    "import os\n",
    "for subj in os.listdir(ROOT_DIR+SUB_DIR[0]):\n",
    "    os.rename(f'{ROOT_DIR+SUB_DIR[0]}/{subj}/DTI/_FA.nii.gz', f'{ROOT_DIR}/mytbss/{subj}_FA.nii.gz')\n",
    "print(\"Moved Controled TBSS\",subjs_control)\n",
    "\n",
    "\n",
    "\n",
    "for subj in os.listdir(ROOT_DIR+SUB_DIR[1]):\n",
    "    os.rename(f'{ROOT_DIR+SUB_DIR[1]}/{subj}/DTI/_FA.nii.gz', f'{ROOT_DIR}/mytbss/{subj}_FA.nii.gz')\n",
    "print(\"Moved Patients to TBSS\",subjs_patient)\n",
    "print(\"Process Done\")\n",
    "\n"
   ]
  },
  {
   "cell_type": "markdown",
   "metadata": {},
   "source": [
    "## Post Registeration"
   ]
  },
  {
   "cell_type": "markdown",
   "metadata": {},
   "source": [
    "<img src=\"./img10.png\" width=\"400\" height=\"200\">"
   ]
  },
  {
   "cell_type": "markdown",
   "metadata": {},
   "source": [
    "<img src=\"./img11.png\" width=\"1000\" height=\"40\">"
   ]
  },
  {
   "attachments": {},
   "cell_type": "markdown",
   "metadata": {},
   "source": []
  },
  {
   "cell_type": "markdown",
   "metadata": {},
   "source": [
    "## Visualisation\n"
   ]
  },
  {
   "cell_type": "markdown",
   "metadata": {},
   "source": [
    "[Tricks Link](https://schluppeck.github.io/dafni/fsl_tricks/)\n",
    "\n",
    "[FSL eyes instead of fslview](https://www.youtube.com/playlist?list=PLIQIswOrUH69qFMNg8KYkEGkvCNEwlnfT)"
   ]
  },
  {
   "attachments": {},
   "cell_type": "markdown",
   "metadata": {},
   "source": [
    "## Visualise FA image"
   ]
  },
  {
   "attachments": {},
   "cell_type": "markdown",
   "metadata": {},
   "source": [
    "Above you can see bunch of output files we can Visualise with prefix \"dti\". We can visualise Fractional Anistopy image with FSL view"
   ]
  },
  {
   "cell_type": "code",
   "execution_count": 9,
   "metadata": {},
   "outputs": [
    {
     "name": "stdout",
     "output_type": "stream",
     "text": [
      "/Users/hassan/Documents/GitHub/BIM\n"
     ]
    }
   ],
   "source": [
    "!pwd"
   ]
  },
  {
   "cell_type": "code",
   "execution_count": 10,
   "metadata": {},
   "outputs": [
    {
     "data": {
      "text/plain": [
       "'/Users/hassan/Documents/GitHub/BIM'"
      ]
     },
     "execution_count": 10,
     "metadata": {},
     "output_type": "execute_result"
    }
   ],
   "source": [
    "path_Hassan = '/home/giulia/LABORATORIO'  \n",
    "path_Giulia = '/Users/hassan/Documents/GitHub/BIM'\n",
    "\n",
    " # Get Current Working Directory    \n",
    "import os\n",
    "os.getcwd()   \n"
   ]
  },
  {
   "attachments": {},
   "cell_type": "markdown",
   "metadata": {},
   "source": [
    "The following is the output"
   ]
  },
  {
   "attachments": {},
   "cell_type": "markdown",
   "metadata": {},
   "source": [
    "<img src=\"./img5.png\" width=\"400\" height=\"200\">"
   ]
  },
  {
   "attachments": {},
   "cell_type": "markdown",
   "metadata": {},
   "source": [
    "## Pre-Processing Dataset"
   ]
  },
  {
   "attachments": {},
   "cell_type": "markdown",
   "metadata": {},
   "source": [
    "Preprocessing dataset is very essential contains solution of lot of problems. Steps are outlined in the following order"
   ]
  },
  {
   "attachments": {},
   "cell_type": "markdown",
   "metadata": {},
   "source": [
    "### Correction of Distortion or Motion DTI"
   ]
  },
  {
   "attachments": {},
   "cell_type": "markdown",
   "metadata": {},
   "source": [
    "- DTI on someways anolouges to fMRI analysis in lot of cases. Sometimes we have field map where there are information about distortion in Megnatic Field.\n",
    "\n",
    "- Normal techniques are subtracting the images and try to get out from distortions.\n",
    "\n",
    "- In this subject we will use **topup** in FSL its a command line tool. We can get rid distortion in that case. \n",
    "\n",
    "Let us start"
   ]
  },
  {
   "attachments": {},
   "cell_type": "markdown",
   "metadata": {},
   "source": [
    "**Open command-line point to directory**\n",
    "\n",
    "- cd Documents/Github/BIM\n",
    "\n",
    "**Point to subject in Control** \n",
    "\n",
    "- cd FD\n",
    "- cd Control\n",
    "- cd HC_001\n",
    "- cd DTI\n",
    "\n",
    "**Create Preprocess Dir**\n",
    "\n",
    "- mkdir HC_001_preproc\n",
    "- fslroi dti_FA.nii.gz nodif 0 1\n",
    "\n",
    "it will create nodif.nii.gz\n",
    "- fslmerge -t AP_PA_b0 nodif nodif_PA\n"
   ]
  },
  {
   "cell_type": "code",
   "execution_count": 11,
   "metadata": {},
   "outputs": [
    {
     "name": "stdout",
     "output_type": "stream",
     "text": [
      "/Users/hassan/Documents/GitHub/BIM\n"
     ]
    }
   ],
   "source": [
    "!pwd"
   ]
  },
  {
   "cell_type": "code",
   "execution_count": 12,
   "metadata": {},
   "outputs": [],
   "source": [
    "!mkdir FD/tbss"
   ]
  },
  {
   "attachments": {},
   "cell_type": "markdown",
   "metadata": {},
   "source": [
    "### CommandLine"
   ]
  },
  {
   "cell_type": "code",
   "execution_count": null,
   "metadata": {},
   "outputs": [],
   "source": []
  },
  {
   "cell_type": "code",
   "execution_count": 13,
   "metadata": {},
   "outputs": [
    {
     "name": "stdout",
     "output_type": "stream",
     "text": [
      "Now running \"slicesdir\" to generate report of all input images\n",
      "-e <thr>   :  use the specified threshold for edges (if >0 use this proportion of max-min, if <0, use the absolute value)\n",
      "-S         : output every second axial slice rather than just 9 ortho slices\n"
     ]
    },
    {
     "data": {
      "text/plain": [
       "0"
      ]
     },
     "execution_count": 13,
     "metadata": {},
     "output_type": "execute_result"
    }
   ],
   "source": [
    "os.system(\"tbss_1_preproc FD/mytbss/*.nii.gz\")"
   ]
  },
  {
   "attachments": {},
   "cell_type": "markdown",
   "metadata": {},
   "source": [
    "<img src=\"./img8.png\" width=\"400\" height=\"200\">"
   ]
  },
  {
   "cell_type": "code",
   "execution_count": 14,
   "metadata": {},
   "outputs": [],
   "source": [
    "!open -a safari /Users/hassan/Documents/Github/BIM/FD/mytbss/FA/slicesdir/index.html"
   ]
  },
  {
   "attachments": {},
   "cell_type": "markdown",
   "metadata": {},
   "source": [
    "## Registration"
   ]
  },
  {
   "attachments": {},
   "cell_type": "markdown",
   "metadata": {},
   "source": [
    "May happen that some images are not aligned, so means that one is tilted with respect to the other; registration is the process whereby the images are aligned.\n",
    "We must represent the same anatomy in both images by creating aligned images. One location within an image is a particular row and column in 2d image, coordinates with the same bit of anatomy.\n"
   ]
  },
  {
   "attachments": {},
   "cell_type": "markdown",
   "metadata": {},
   "source": [
    "<img src=\"./img9.png\" width=\"400\" height=\"200\">"
   ]
  },
  {
   "cell_type": "code",
   "execution_count": null,
   "metadata": {},
   "outputs": [],
   "source": []
  },
  {
   "cell_type": "markdown",
   "metadata": {},
   "source": [
    "<img src=\"./img12.png\" width=\"400\" height=\"200\">"
   ]
  },
  {
   "attachments": {},
   "cell_type": "markdown",
   "metadata": {},
   "source": [
    "## Segmentation"
   ]
  },
  {
   "cell_type": "code",
   "execution_count": null,
   "metadata": {},
   "outputs": [],
   "source": []
  },
  {
   "attachments": {},
   "cell_type": "markdown",
   "metadata": {},
   "source": []
  },
  {
   "attachments": {},
   "cell_type": "markdown",
   "metadata": {},
   "source": []
  },
  {
   "attachments": {},
   "cell_type": "markdown",
   "metadata": {},
   "source": [
    "## Tractography"
   ]
  },
  {
   "cell_type": "code",
   "execution_count": null,
   "metadata": {},
   "outputs": [],
   "source": []
  },
  {
   "attachments": {},
   "cell_type": "markdown",
   "metadata": {},
   "source": [
    "## Connectome"
   ]
  },
  {
   "cell_type": "code",
   "execution_count": null,
   "metadata": {},
   "outputs": [],
   "source": []
  },
  {
   "attachments": {},
   "cell_type": "markdown",
   "metadata": {},
   "source": [
    "## Metrics"
   ]
  },
  {
   "cell_type": "code",
   "execution_count": null,
   "metadata": {},
   "outputs": [],
   "source": []
  },
  {
   "attachments": {},
   "cell_type": "markdown",
   "metadata": {},
   "source": [
    "## Analysis"
   ]
  },
  {
   "cell_type": "code",
   "execution_count": null,
   "metadata": {},
   "outputs": [],
   "source": []
  },
  {
   "attachments": {},
   "cell_type": "markdown",
   "metadata": {},
   "source": [
    "## Conclusion"
   ]
  },
  {
   "cell_type": "code",
   "execution_count": null,
   "metadata": {},
   "outputs": [],
   "source": []
  },
  {
   "attachments": {},
   "cell_type": "markdown",
   "metadata": {},
   "source": [
    "## Bibliography"
   ]
  },
  {
   "attachments": {},
   "cell_type": "markdown",
   "metadata": {},
   "source": [
    "- Hagmann P., Jonasson L., Maeder P., et al. (2006). Understanding diffusion MR imaging techniques: from scalar diffusion-weighted imaging to diffusion tensor imaging and beyond. Radiographics, 26(suppl_1), S205-S223.\n",
    "- https://www.britannica.com/summary/brain\n",
    "- Mohammad Sabbih Hamoud Al-Tamimi Ghazali Sulong, ―Tumor brain detection through MR Images: A review literature, Journal of Theoretical and Applied Information Technology, vol. 62 no. 2, 20 April 2014.\n",
    "- link della figura 2\n",
    "- Hoffmann B. Fabry disease: recent advances in pathology, diagnosis, treatment and monitoring. Orphanet J Rare Dis. 2009 Oct 11; 4:21.\n",
    "\n",
    "- [user guidelines Commands](https://mrtrix.readthedocs.io/en/latest/reference/commands/tcksample.html)\n",
    "- [user guidelines FDT](https://fsl.fmrib.ox.ac.uk/fsl/fslwiki/FDT) \n",
    "- [user guidelines TBSS](https://fsl.fmrib.ox.ac.uk/fsl/fslwiki/TBSS/UserGuide)\n",
    "- [user guidelines TBSS](https://andysbrainbook.readthedocs.io/en/stable/TBSS/TBSS_Overview.html)\n"
   ]
  },
  {
   "attachments": {},
   "cell_type": "markdown",
   "metadata": {},
   "source": [
    "## Software Requirements"
   ]
  },
  {
   "attachments": {},
   "cell_type": "markdown",
   "metadata": {},
   "source": [
    "### MACOS Setup"
   ]
  },
  {
   "attachments": {},
   "cell_type": "markdown",
   "metadata": {},
   "source": [
    "### MACOS Setup"
   ]
  },
  {
   "attachments": {},
   "cell_type": "markdown",
   "metadata": {},
   "source": [
    "It will be explained later\n",
    "\n",
    "\n",
    "- Sudo su (without su not worked)\n",
    "- Following is the [link](https://www.youtube.com/watch?v=LgRZLev1LRw)\n",
    "- export PATH=/usr/local/fsl/bin:$PATH\n",
    "- PATH=/usr/local/fsl/bin:${PATH}\n",
    "- export FSLDIR=/usr/local/fsl\n",
    "- Go to Terminal Type __ fsleyes\n",
    "- You need to set the FSLDIR environment variable to point to the FSL installation directory before you can run anything.\n",
    "- You need to source an FSL setup file - either fsl.sh or fsl.csh in $FSLDIR/etc/fslconf \n",
    "- cd $FSLDIR/etc/fslconf\n",
    "- source fsl.sh\n",
    "- fsl\n",
    "- Shell-script fsl.sh \n",
    "\n",
    "nano .zshrc to add things"
   ]
  },
  {
   "cell_type": "code",
   "execution_count": null,
   "metadata": {},
   "outputs": [],
   "source": []
  },
  {
   "attachments": {},
   "cell_type": "markdown",
   "metadata": {},
   "source": []
  },
  {
   "cell_type": "code",
   "execution_count": null,
   "metadata": {},
   "outputs": [],
   "source": []
  },
  {
   "cell_type": "code",
   "execution_count": null,
   "metadata": {},
   "outputs": [],
   "source": []
  },
  {
   "cell_type": "code",
   "execution_count": null,
   "metadata": {},
   "outputs": [],
   "source": []
  }
 ],
 "metadata": {
  "kernelspec": {
   "display_name": "Python 3 (ipykernel)",
   "language": "python",
   "name": "python3"
  },
  "language_info": {
   "codemirror_mode": {
    "name": "ipython",
    "version": 3
   },
   "file_extension": ".py",
   "mimetype": "text/x-python",
   "name": "python",
   "nbconvert_exporter": "python",
   "pygments_lexer": "ipython3",
   "version": "3.11.3"
  }
 },
 "nbformat": 4,
 "nbformat_minor": 2
}

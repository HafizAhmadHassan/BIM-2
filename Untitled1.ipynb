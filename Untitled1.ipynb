{
 "cells": [
  {
   "cell_type": "code",
   "execution_count": 1,
   "id": "baff805c",
   "metadata": {},
   "outputs": [],
   "source": [
    "%gui wx\n"
   ]
  },
  {
   "cell_type": "code",
   "execution_count": 1,
   "id": "cd53ac0e",
   "metadata": {},
   "outputs": [
    {
     "data": {
      "text/plain": [
       "True"
      ]
     },
     "execution_count": 1,
     "metadata": {},
     "output_type": "execute_result"
    }
   ],
   "source": [
    "import fsleyes\n",
    "overlayList, displayCtx, frame = fsleyes.embed()\n",
    "frame.Show()"
   ]
  },
  {
   "cell_type": "code",
   "execution_count": 2,
   "id": "dbf77743",
   "metadata": {},
   "outputs": [],
   "source": [
    "overlayList, displayCtx, _ = fsleyes.embed(mkFrame=False)\n"
   ]
  },
  {
   "cell_type": "code",
   "execution_count": null,
   "id": "dc9dd2fd",
   "metadata": {},
   "outputs": [],
   "source": []
  }
 ],
 "metadata": {
  "kernelspec": {
   "display_name": "Python 3 (ipykernel)",
   "language": "python",
   "name": "python3"
  },
  "language_info": {
   "codemirror_mode": {
    "name": "ipython",
    "version": 3
   },
   "file_extension": ".py",
   "mimetype": "text/x-python",
   "name": "python",
   "nbconvert_exporter": "python",
   "pygments_lexer": "ipython3",
   "version": "3.10.11"
  }
 },
 "nbformat": 4,
 "nbformat_minor": 5
}
